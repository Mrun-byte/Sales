{
  "nbformat": 4,
  "nbformat_minor": 0,
  "metadata": {
    "colab": {
      "name": "Sales.json",
      "provenance": [],
      "collapsed_sections": []
    },
    "kernelspec": {
      "name": "python3",
      "display_name": "Python 3"
    },
    "language_info": {
      "name": "python"
    }
  },
  "cells": [
    {
      "cell_type": "code",
      "metadata": {
        "colab": {
          "base_uri": "https://localhost:8080/"
        },
        "id": "JM51-mRAGXg3",
        "outputId": "2741ac1d-62a1-4e31-c5f3-1af2af9c6b18"
      },
      "source": [
        "fd = open('Record.json','r')\n",
        "txt = fd.read()\n",
        "fd.close()\n",
        "products = txt.split(\"\\n\")\n",
        "\n",
        "ui_prod = str(input(\"Enter product Id: \"))\n",
        "ui_quan = input(\"Enter quantity\")\n",
        "for i in products:\n",
        "    prod = (i.split(\",\"))\n",
        "    \n",
        "    if(ui_prod == prod[0]):\n",
        "        print(\"*************\")\n",
        "        print(\"Product Id:\",prod[0])\n",
        "        print(\"Name:\",prod[1])\n",
        "        print(\"Price:\",prod[2])\n",
        "        print(\"Discount:\",prod[3])\n",
        "        print(\"Quantity:\",prod[4])\n",
        "        print(\"*************\")\n",
        "        print(\"Amount:\",int(prod[2]) * ui_quantity)\n",
        "        print(\"*************\")"
      ],
      "execution_count": null,
      "outputs": [
        {
          "name": "stdout",
          "output_type": "stream",
          "text": [
            "Enter product Id: 1102001\n",
            "Enter quantity20\n"
          ]
        }
      ]
    },
    {
      "cell_type": "code",
      "metadata": {
        "id": "aieKBmSBLuhy"
      },
      "source": [
        "newrecord = []\n",
        "for product in products:\n",
        "    prod = product.split(\",\")\n",
        "    if(ui_prod == prod[0]):\n",
        "        prod[4] = str(int(prod[4]) - ui_quant)\n"
      ],
      "execution_count": null,
      "outputs": []
    },
    {
      "cell_type": "code",
      "metadata": {
        "id": "CUAUt-J8N0vb"
      },
      "source": [
        "newrecord = []\n",
        "for product in products:\n",
        "    prod = product.split(\",\")\n",
        "    if(ui_prod == prod[0]):\n",
        "        prod[4] = str(int(prod[4]) - ui_quant)"
      ],
      "execution_count": null,
      "outputs": []
    },
    {
      "cell_type": "code",
      "metadata": {
        "colab": {
          "base_uri": "https://localhost:8080/"
        },
        "id": "OeUMPNOpN7Cb",
        "outputId": "9ecd0183-256c-4f98-8b13-bfb84dead525"
      },
      "source": [
        "products"
      ],
      "execution_count": null,
      "outputs": [
        {
          "output_type": "execute_result",
          "data": {
            "text/plain": [
              "['{\"1102001\": {\"Name\": \"Kitkat\", \"Price\": \"10\", \"Discount\": \"20%\", \"Exp Date\": \"Mar2022\", \"Quantity\": \"20\"}, \"1102002\": {\"Name\": \"Perk\", \"Price\": \"10\", \"Discount\": \"20%\", \"Exp Date\": \"Mar2022\", \"Quantity\": \"20\"}, \"1102003\": {\"Name\": \"Choclairs\", \"Price\": \"10\", \"Discount\": \"20%\", \"Exp Date\": \"Mar2023\", \"Quantity\": \"40\"}, \"1102004\": {\"Name\": \"5 Star\", \"Price\": \"10\", \"Discount\": \"20%\", \"Exp Date\": \"Mar2022\", \"Quantity\": \"20\"}, \"1102005\": {\"Name\": \"Dairy Milk\", \"Price\": \"10\", \"Discount\": \"20%\", \"Exp Date\": \"Mar2023\", \"Quantity\": \"40\"}, \"1102006\": {\"Name\": \"Munch\", \"Price\": \"10\", \"Discount\": \"20%\", \"Exp Date\": \"Mar2022\", \"Quantity\": \"20\"}, \"1102007\": {\"Name\": \"Milky Bar\", \"Price\": \"10\", \"Discount\": \"20%\", \"Exp Date\": \"Mar2023\", \"Quantity\": \"30\"}, \"1102008\": {\"Name\": \"Bournville\", \"Price\": \"10\", \"Discount\": \"20%\", \"Exp Date\": \"Mar2022\", \"Quantity\": \"20\"}, \"1102009\": {\"Name\": \"Thums up\", \"Price\": \"10\", \"Discount\": \"20%\", \"Exp Date\": \"Mar2023\", \"Quantity\": \"40\"}, \"1102010\": {\"Name\": \"coco cola\", \"Price\": \"10\", \"Discount\": \"20%\", \"Exp Date\": \"Mar2022\", \"Quantity\": \"20\"}, \"1102011\": {\"Name\": \"Pepsi\", \"Price\": \"10\", \"Discount\": \"20%\", \"Exp Date\": \"Mar2023\", \"Quantity\": \"60\"}, \"1102012\": {\"Name\": \"Fanta\", \"Price\": \"10\", \"Discount\": \"20%\", \"Exp Date\": \"Mar2022\", \"Quantity\": \"20\"}, \"1102013\": {\"Name\": \"Slice\", \"Price\": \"10\", \"Discount\": \"20%\", \"Exp Date\": \"Mar2023\", \"Quantity\": \"50\"}, \"1102014\": {\"Name\": \"Mazaa\", \"Price\": \"10\", \"Discount\": \"20%\", \"Exp Date\": \"Mar2022\", \"Quantity\": \"20\"}, \"1102015\": {\"Name\": \"Limca\", \"Price\": \"10\", \"Discount\": \"20%\", \"Exp Date\": \"Mar2023\", \"Quantity\": \"03\"}, \"1102016\": {\"Name\": \"Mirinda\", \"Price\": \"10\", \"Discount\": \"20%\", \"Exp Date\": \"Mar2022\", \"Quantity\": \"20\"}, \"1102017\": {\"Name\": \"7 UP\", \"Price\": \"10\", \"Discount\": \"20%\", \"Exp Date\": \"Mar2023\", \"Quantity\": \"20\"}, \"1102018\": {\"Name\": \"Bourbon\", \"Price\": \"10\", \"Discount\": \"20%\", \"Exp Date\": \"Mar2022\", \"Quantity\": \"20\"}, \"1102019\": {\"Name\": \"Good Day\", \"Price\": \"10\", \"Discount\": \"20%\", \"Exp Date\": \"Mar2023\", \"Quantity\": \"10\"}, \"1102020\": {\"Name\": \"Parle G\", \"Price\": \"10\", \"Discount\": \"20%\", \"Exp Date\": \"Mar2022\", \"Quantity\": \"20\"}, \"1102021\": {\"Name\": \"Monaco\", \"Price\": \"10\", \"Discount\": \"20%\", \"Exp Date\": \"Mar2023\", \"Quantity\": \"30\"}, \"1102022\": {\"Name\": \"Krack Jack\", \"Price\": \"10\", \"Discount\": \"20%\", \"Exp Date\": \"Mar2022\", \"Quantity\": \"20\"}, \"1102023\": {\"Name\": \"Oreo\", \"Price\": \"10\", \"Discount\": \"20%\", \"Exp Date\": \"Mar2023\", \"Quantity\": \"60\"}, \"1102024\": {\"Name\": \"Dark Fantasy\", \"Price\": \"10\", \"Discount\": \"20%\", \"Exp Date\": \"Mar2022\", \"Quantity\": \"20\"}, \"1102025\": {\"Name\": \"Marie\", \"Price\": \"10\", \"Discount\": \"20%\", \"Exp Date\": \"Mar2023\", \"Quantity\": \"60\"}, \"1102026\": {\"Name\": \"Hide & Seek\", \"Price\": \"10\", \"Discount\": \"20%\", \"Exp Date\": \"Mar2022\", \"Quantity\": \"20\"}, \"1102027\": {\"Name\": \"Butter Bite\", \"Price\": \"10\", \"Discount\": \"20%\", \"Exp Date\": \"Mar2023\", \"Quantity\": \"50\"}, \"1102028\": {\"Name\": \"Happy Happy\", \"Price\": \"10\", \"Discount\": \"20%\", \"Exp Date\": \"Mar2022\", \"Quantity\": \"50\"}, \"1102029\": {\"Name\": \"Horlicks\", \"Price\": \"10\", \"Discount\": \"20%\", \"Exp Date\": \"Mar2023\", \"Quantity\": \"20\"}, \"1102030\": {\"Name\": \"Bournvita\", \"Price\": \"10\", \"Discount\": \"20%\", \"Exp Date\": \"Mar2022\", \"Quantity\": \"40\"}}']"
            ]
          },
          "metadata": {},
          "execution_count": 11
        }
      ]
    },
    {
      "cell_type": "code",
      "metadata": {
        "colab": {
          "base_uri": "https://localhost:8080/"
        },
        "id": "NliWxeXVN8tZ",
        "outputId": "faf06338-e377-40cd-d723-2c3ca256807f"
      },
      "source": [
        "newrecord"
      ],
      "execution_count": null,
      "outputs": [
        {
          "output_type": "execute_result",
          "data": {
            "text/plain": [
              "[]"
            ]
          },
          "metadata": {},
          "execution_count": 17
        }
      ]
    }
  ]
}